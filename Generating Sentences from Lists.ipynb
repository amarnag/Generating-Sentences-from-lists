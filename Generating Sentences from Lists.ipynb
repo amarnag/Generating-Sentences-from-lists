{
 "cells": [
  {
   "cell_type": "code",
   "execution_count": 1,
   "id": "f2e3e505",
   "metadata": {},
   "outputs": [],
   "source": [
    "import random\n",
    "\n",
    "verbs=[\"goes\",\"cooks\",\"shoots\",\"faints\",\"chews\",\"screams\"]\n",
    "nouns=[\"bear\",\"lion\",\"mother\",\"baby\",\"sister\",\"car\",\"bicycle\",\"book\"]\n",
    "adverbs=[\"handily\",\"sweetly\",\"sourly\",\"gingerly\",\"forcefully\",\"meekly\"]\n",
    "articles=[\"a\",\"the\",\"that\",\"this\"]"
   ]
  },
  {
   "cell_type": "code",
   "execution_count": 2,
   "id": "c1aafc4d",
   "metadata": {},
   "outputs": [],
   "source": [
    "def sentence():\n",
    "    article = random.choice(articles)    \n",
    "    noun = random.choice(nouns)\n",
    "    verb = random.choice(verbs)\n",
    "    adverb = random.choice(adverbs)\n",
    "    \n",
    "    our_sentence = article + \" \" + noun + \" \" + verb + \" \" + adverb + \".\"\n",
    "    our_sentence = our_sentence.capitalize()\n",
    "    \n",
    "    print(our_sentence)"
   ]
  },
  {
   "cell_type": "code",
   "execution_count": 3,
   "id": "445356c9",
   "metadata": {},
   "outputs": [
    {
     "name": "stdout",
     "output_type": "stream",
     "text": [
      "The lion faints meekly.\n"
     ]
    }
   ],
   "source": [
    "sentence()"
   ]
  },
  {
   "cell_type": "code",
   "execution_count": 4,
   "id": "c4d6f610",
   "metadata": {},
   "outputs": [
    {
     "name": "stdout",
     "output_type": "stream",
     "text": [
      "That bear goes forcefully.\n"
     ]
    }
   ],
   "source": [
    "sentence()"
   ]
  },
  {
   "cell_type": "code",
   "execution_count": 5,
   "id": "6342c3c1",
   "metadata": {},
   "outputs": [
    {
     "name": "stdout",
     "output_type": "stream",
     "text": [
      "That baby chews forcefully.\n"
     ]
    }
   ],
   "source": [
    "sentence()"
   ]
  },
  {
   "cell_type": "code",
   "execution_count": 6,
   "id": "0a06d6dd",
   "metadata": {},
   "outputs": [
    {
     "name": "stdout",
     "output_type": "stream",
     "text": [
      "This bear cooks sourly.\n"
     ]
    }
   ],
   "source": [
    "sentence()"
   ]
  },
  {
   "cell_type": "code",
   "execution_count": 7,
   "id": "a93a7dfa",
   "metadata": {},
   "outputs": [
    {
     "name": "stdout",
     "output_type": "stream",
     "text": [
      "The lion faints gingerly.\n"
     ]
    }
   ],
   "source": [
    "sentence()"
   ]
  },
  {
   "cell_type": "code",
   "execution_count": 8,
   "id": "7cee5619",
   "metadata": {},
   "outputs": [
    {
     "name": "stdout",
     "output_type": "stream",
     "text": [
      "That book cooks handily.\n"
     ]
    }
   ],
   "source": [
    "sentence()"
   ]
  },
  {
   "cell_type": "markdown",
   "id": "70086fbb",
   "metadata": {},
   "source": [
    "### Simple poem from the lists"
   ]
  },
  {
   "cell_type": "code",
   "execution_count": 11,
   "id": "b6d5d76d",
   "metadata": {},
   "outputs": [],
   "source": [
    "def simple_poem():\n",
    "    for i in range(0,4):\n",
    "        article = random.choice(articles)    \n",
    "        noun = random.choice(nouns)\n",
    "        verb = random.choice(verbs)\n",
    "        adverb = random.choice(adverbs)\n",
    "    \n",
    "        our_sentence = article + \" \" + noun + \" \" + verb + \" \" + adverb + \".\"\n",
    "        our_sentence = our_sentence.capitalize()\n",
    "    \n",
    "        print(our_sentence)"
   ]
  },
  {
   "cell_type": "code",
   "execution_count": 12,
   "id": "7e61aebb",
   "metadata": {},
   "outputs": [
    {
     "name": "stdout",
     "output_type": "stream",
     "text": [
      "A bicycle goes sourly.\n",
      "A lion faints sourly.\n",
      "This baby screams handily.\n",
      "The bear screams sweetly.\n"
     ]
    }
   ],
   "source": [
    "simple_poem()"
   ]
  },
  {
   "cell_type": "code",
   "execution_count": 13,
   "id": "79bfb6df",
   "metadata": {},
   "outputs": [
    {
     "name": "stdout",
     "output_type": "stream",
     "text": [
      "A bicycle shoots sweetly.\n",
      "The lion cooks handily.\n",
      "That sister chews sweetly.\n",
      "That baby faints meekly.\n"
     ]
    }
   ],
   "source": [
    "simple_poem()"
   ]
  },
  {
   "cell_type": "markdown",
   "id": "8168951a",
   "metadata": {},
   "source": [
    "### Creating a list of numbers"
   ]
  },
  {
   "cell_type": "code",
   "execution_count": 13,
   "id": "d77b83d4",
   "metadata": {},
   "outputs": [],
   "source": [
    "def create_list():\n",
    "    num_list = []\n",
    "    while True:\n",
    "        num = int(input(\"enter a number, hit 0 to quit:\"))\n",
    "        if num ==0:\n",
    "            break\n",
    "        num_list.append(num)\n",
    "    print(num_list)"
   ]
  },
  {
   "cell_type": "code",
   "execution_count": 14,
   "id": "ee01851f",
   "metadata": {},
   "outputs": [
    {
     "name": "stdout",
     "output_type": "stream",
     "text": [
      "enter a number, hit 0 to quit:3\n",
      "enter a number, hit 0 to quit:4\n",
      "enter a number, hit 0 to quit:6\n",
      "enter a number, hit 0 to quit:9\n",
      "enter a number, hit 0 to quit:5\n",
      "enter a number, hit 0 to quit:6\n",
      "enter a number, hit 0 to quit:0\n",
      "[3, 4, 6, 9, 5, 6]\n"
     ]
    }
   ],
   "source": [
    "create_list()"
   ]
  },
  {
   "cell_type": "markdown",
   "id": "1eb9965a",
   "metadata": {},
   "source": [
    "### Exercise:\n",
    "Write a function diner_waitress() that asks for you order. First start an empty\n",
    "list, call it order. Then use a while loop and an input() statement to gather\n",
    "the order. Continue in the while loop until the customer says \"that's all\". \n",
    "One way to end the loop is to use 'break' to break out of the loop when \n",
    "\"that's all\" is entered. \n",
    "Recall that you can add to a list by using the list's .append() method; suppose\n",
    "that your list is called order. To create an empty list you can use\n",
    "order = []. You are going to have to input one food at a time and append it\n",
    "to the order list.\n",
    "Then print out the order. Here is my run:\n",
    "\n",
    "diner_waitress()\n",
    "Hello, I'll be your waitress. What will you have?\n",
    "\n",
    "menu item: eggs\n",
    "\n",
    "menu item: bacon\n",
    "\n",
    "menu item: toast\n",
    "\n",
    "menu item: jelly\n",
    "\n",
    "menu item: that's all\n",
    "You've ordered:\n",
    "['eggs', 'bacon', 'toast', 'jelly']"
   ]
  },
  {
   "cell_type": "code",
   "execution_count": 21,
   "id": "0b108163",
   "metadata": {},
   "outputs": [],
   "source": [
    "def diner_waitress():\n",
    "    order = []\n",
    "    while True:\n",
    "        next_order = input(\"I'll be your waitress. What will you have?\")\n",
    "        if next_order == \"that's all\":\n",
    "            break\n",
    "        order.append(next_order)\n",
    "    print(order)"
   ]
  },
  {
   "cell_type": "code",
   "execution_count": 22,
   "id": "824057fd",
   "metadata": {},
   "outputs": [
    {
     "name": "stdout",
     "output_type": "stream",
     "text": [
      "I'll be your waitress. What will you have?pani poori\n",
      "I'll be your waitress. What will you have?nudles\n",
      "I'll be your waitress. What will you have?cutlet\n",
      "I'll be your waitress. What will you have?gobi manchuria\n",
      "I'll be your waitress. What will you have?chicken\n",
      "I'll be your waitress. What will you have?that's all\n",
      "['pani poori', 'nudles', 'cutlet', 'gobi manchuria', 'chicken']\n"
     ]
    }
   ],
   "source": [
    "diner_waitress()"
   ]
  },
  {
   "cell_type": "code",
   "execution_count": null,
   "id": "daf3ca08",
   "metadata": {},
   "outputs": [],
   "source": []
  }
 ],
 "metadata": {
  "kernelspec": {
   "display_name": "Python 3 (ipykernel)",
   "language": "python",
   "name": "python3"
  },
  "language_info": {
   "codemirror_mode": {
    "name": "ipython",
    "version": 3
   },
   "file_extension": ".py",
   "mimetype": "text/x-python",
   "name": "python",
   "nbconvert_exporter": "python",
   "pygments_lexer": "ipython3",
   "version": "3.9.7"
  }
 },
 "nbformat": 4,
 "nbformat_minor": 5
}
